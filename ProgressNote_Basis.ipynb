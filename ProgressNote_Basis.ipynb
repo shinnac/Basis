{
 "cells": [
  {
   "cell_type": "code",
   "execution_count": null,
   "metadata": {},
   "outputs": [],
   "source": [
    "#問題5.5.6\n",
    "#ゼロベクトルを含む線形独立なベクトルの集合はないことを示せ。\n",
    "\n",
    "#ゼロベクトルを含む集合S={s1,s2,s3,・・・,sn,0}には、非自明な線形結合\n",
    "#0=0s1+0s2+0s3+・・・+0sn+k0　(k≠0)が存在するため定義からSは線形独立ではない。\n",
    "\n"
   ]
  },
  {
   "cell_type": "code",
   "execution_count": 2,
   "metadata": {},
   "outputs": [
    {
     "name": "stdout",
     "output_type": "stream",
     "text": [
      "\n",
      "    y1    y2 y3\n",
      "---------------\n",
      " 0.667 0.333  1\n"
     ]
    }
   ],
   "source": [
    "#課題5.12.1\n",
    "# Make procedure move2borad(y)\n",
    "# Input Vec({'y1','y2','y3'},{'y1':0.1,'y2':0.2,'y3':0.3}) カメラ画面上の点qをホワイトボード基底の座標y1,y2,y3で記述したベクトル\n",
    "# Output Vec({'y1','y2','y3'},{'y1':__,'y2':__,'y3':1}) qが相当するホワイトボード上の点pをホワイトボード基底の座標y1,y2,y3で記述したベクトル\n",
    "\n",
    "from vec import Vec\n",
    "\n",
    "def move2board(y):\n",
    "    assert y.f['y3'] != 0\n",
    "    y3 = y.f['y3']\n",
    "    return Vec(y.D, {'y1': y.f['y1']/y3, 'y2': y.f['y2']/y3, 'y3': 1})\n",
    "\n",
    "y = Vec({'y1','y2','y3'},{'y1':0.2,'y2':0.1,'y3':0.3})\n",
    "\n",
    "print(move2board(y))"
   ]
  }
 ],
 "metadata": {
  "kernelspec": {
   "display_name": "Python 3.6.13 ('env_py36')",
   "language": "python",
   "name": "python3"
  },
  "language_info": {
   "codemirror_mode": {
    "name": "ipython",
    "version": 3
   },
   "file_extension": ".py",
   "mimetype": "text/x-python",
   "name": "python",
   "nbconvert_exporter": "python",
   "pygments_lexer": "ipython3",
   "version": "3.6.13"
  },
  "orig_nbformat": 4,
  "vscode": {
   "interpreter": {
    "hash": "8b3a940d1976387c46547d4fbb5c46bf6988d13fad577206c7fb10b3fe13e6b3"
   }
  }
 },
 "nbformat": 4,
 "nbformat_minor": 2
}
