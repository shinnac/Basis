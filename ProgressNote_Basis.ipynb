{
 "cells": [
  {
   "cell_type": "code",
   "execution_count": null,
   "metadata": {},
   "outputs": [],
   "source": [
    "#問題5.5.6\n",
    "#ゼロベクトルを含む線形独立なベクトルの集合はないことを示せ。\n",
    "\n",
    "#ゼロベクトルを含む集合S={s1,s2,s3,・・・,sn,0}には、非自明な線形結合\n",
    "#0=0s1+0s2+0s3+・・・+0sn+k0　(k≠0)が存在するため定義からSは線形独立ではない。\n",
    "\n"
   ]
  },
  {
   "cell_type": "code",
   "execution_count": 3,
   "metadata": {},
   "outputs": [
    {
     "name": "stdout",
     "output_type": "stream",
     "text": [
      "\n",
      "    y1    y2 y3\n",
      "---------------\n",
      " 0.667 0.333  1\n"
     ]
    }
   ],
   "source": [
    "#課題5.12.1\n",
    "# Make procedure move2borad(y)\n",
    "# Input Vec({'y1','y2','y3'},{'y1':0.1,'y2':0.2,'y3':0.3}) カメラ画面上の点qをホワイトボード基底の座標y1,y2,y3で記述したベクトル\n",
    "# Output Vec({'y1','y2','y3'},{'y1':__,'y2':__,'y3':1}) qが相当するホワイトボード上の点pをホワイトボード基底の座標y1,y2,y3で記述したベクトル\n",
    "\n",
    "from vec import Vec\n",
    "\n",
    "def move2board(y):\n",
    "    assert y.f['y3'] != 0\n",
    "    y3 = y.f['y3']\n",
    "    return Vec(y.D, {'y1': y.f['y1']/y3, 'y2': y.f['y2']/y3, 'y3': 1})\n",
    "\n",
    "y = Vec({'y1','y2','y3'},{'y1':0.2,'y2':0.1,'y3':0.3})\n",
    "\n",
    "print(move2board(y))"
   ]
  },
  {
   "cell_type": "code",
   "execution_count": 6,
   "metadata": {},
   "outputs": [
    {
     "name": "stdout",
     "output_type": "stream",
     "text": [
      "\n",
      "            x1      x2   x3\n",
      "      ---------------------\n",
      " y1  |       1  0.0517 -360\n",
      " y2  |  -0.382   0.738  110\n",
      " y3  |  -0.722 -0.0117  669\n",
      "\n",
      "\n",
      "        y1        y2 y3\n",
      "-----------------------\n",
      " -2.77E-16 -6.92E-17  1\n",
      "\n",
      " y1 y2 y3\n",
      "---------\n",
      "  0  1  1\n",
      "\n",
      " y1        y2 y3\n",
      "----------------\n",
      "  1 -2.37E-16  1\n",
      "\n",
      " y1 y2 y3\n",
      "---------\n",
      "  1  1  1\n"
     ]
    }
   ],
   "source": [
    "#課題5.12.1\n",
    "# Make procedure move2borad(y)\n",
    "# Input Vec({'y1','y2','y3'},{'y1':0.1,'y2':0.2,'y3':0.3}) カメラ画面上の点qをホワイトボード基底の座標y1,y2,y3で記述したベクトル\n",
    "# Output Vec({'y1','y2','y3'},{'y1':__,'y2':__,'y3':1}) qが相当するホワイトボード上の点pをホワイトボード基底の座標y1,y2,y3で記述したベクトル\n",
    "\n",
    "from vec import Vec\n",
    "\n",
    "def move2board(y):\n",
    "    assert y.f['y3'] != 0\n",
    "    y3 = y.f['y3']\n",
    "    return Vec(y.D, {'y1': y.f['y1']/y3, 'y2': y.f['y2']/y3, 'y3': 1})\n",
    "\n",
    "#課題5.12.2\n",
    "# R={'y1','y2','y3'}　ホワイトボード座標の定義域\n",
    "# C={'x1','x2,'x3'}　カメラ座標の定義域\n",
    "\n",
    "from vec import Vec\n",
    "\n",
    "def make_equations(x1,x2,w1,w2):\n",
    "    R = {'y1','y2','y3'}\n",
    "    C = {'x1','x2','x3'}\n",
    "    U = Vec({(i,j) for i in R for j in C}, \\\n",
    "        {('y1','x1'):-x1,('y1','x2'):-x2, ('y1','x3'):-1,\\\n",
    "            ('y2','x1'):0, ('y2','x2'):0, ('y2','x3'):0,\\\n",
    "            ('y3','x1'):w1*x1,('y3','x2'):w1*x2,('y3','x3'):w1} )\n",
    "    V = Vec({(i,j) for i in R for j in C}, \\\n",
    "        {('y2','x1'):-x1, ('y2','x2'):-x2, ('y2','x3'):-1,\\\n",
    "            ('y1','x1'):0 ,('y1','x2'):0, ('y1','x3'):0,\\\n",
    "            ('y3','x1'):w2*x1,('y3','x2'):w2*x2,('y3','x3'):w2} )\n",
    "    return [U, V]\n",
    "    \n",
    "#課題5.12.3\n",
    "R = {'y1','y2','y3'}\n",
    "C = {'x1','x2','x3'}\n",
    "D = {(i,j) for i in R for j in C}\n",
    "\n",
    "\n",
    "W = Vec(D, {d:1 if d == ('y1', 'x1') else 0 for d in D})\n",
    "\n",
    "#課題5.12.4\n",
    "\n",
    "from mat import Mat\n",
    "from solver import solve\n",
    "\n",
    "q = [(358, 36, 0,0),(329, 597,0,1),(592,157,1,0),(580,483,1,1)]\n",
    "\n",
    "L = Mat(({i for i in range(9)}, D), {})\n",
    "\n",
    "for n in range(4):\n",
    "    [u,v] = make_equations(q[n][0], q[n][1],q[n][2],q[n][3])\n",
    "    for d in  D:\n",
    "        L.f[(2 * n    , d)] = u.f[d]\n",
    "        L.f[(2 * n + 1, d)] = v.f[d]\n",
    "\n",
    "for d in  D:\n",
    "    L.f[(8, d)] = W[d]\n",
    "\n",
    "b = Vec({i for i in range(9)},{i:0 for i in range(8)})\n",
    "b.f[8] = 1\n",
    "\n",
    "h = solve(L,b)\n",
    "\n",
    "H = Mat((R,C), {d:h.f.get(d, 0) for d in h.D})\n",
    "#sloverメソッドで得た解は要素が0の場合未設定になるらしい。\n",
    "#このためh.f[key]ではなくh.f.get(key,0)として値が存在しない場合には0を返すようにする。\n",
    "\n",
    "print(H)\n",
    "\n",
    "from mat import matrix_vector_mul\n",
    "\n",
    "for x in q:\n",
    "    y = matrix_vector_mul(H, Vec(C, {'x1':x[0], 'x2':x[1], 'x3':1}))\n",
    "    print(move2board(y))"
   ]
  }
 ],
 "metadata": {
  "kernelspec": {
   "display_name": "env_iRL",
   "language": "python",
   "name": "python3"
  },
  "language_info": {
   "codemirror_mode": {
    "name": "ipython",
    "version": 3
   },
   "file_extension": ".py",
   "mimetype": "text/x-python",
   "name": "python",
   "nbconvert_exporter": "python",
   "pygments_lexer": "ipython3",
   "version": "3.6.13"
  },
  "orig_nbformat": 4,
  "vscode": {
   "interpreter": {
    "hash": "2ad67bbe62bdb43075dccbf006af23c53ba34cfba25b33b3a0a45e51551870b2"
   }
  }
 },
 "nbformat": 4,
 "nbformat_minor": 2
}
