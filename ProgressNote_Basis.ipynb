{
 "cells": [
  {
   "cell_type": "code",
   "execution_count": null,
   "metadata": {},
   "outputs": [],
   "source": [
    "#問題5.5.6\n",
    "#ゼロベクトルを含む線形独立なベクトルの集合はないことを示せ。\n",
    "\n",
    "#ゼロベクトルを含む集合S={s1,s2,s3,・・・,sn,0}には、非自明な線形結合\n",
    "#0=0s1+0s2+0s3+・・・+0sn+k0　(k≠0)が存在するため定義からSは線形独立ではない。\n",
    "\n"
   ]
  }
 ],
 "metadata": {
  "kernelspec": {
   "display_name": "Python 3.6.13 ('env_py36')",
   "language": "python",
   "name": "python3"
  },
  "language_info": {
   "name": "python",
   "version": "3.6.13"
  },
  "orig_nbformat": 4,
  "vscode": {
   "interpreter": {
    "hash": "8b3a940d1976387c46547d4fbb5c46bf6988d13fad577206c7fb10b3fe13e6b3"
   }
  }
 },
 "nbformat": 4,
 "nbformat_minor": 2
}
