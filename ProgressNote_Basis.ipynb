{
 "cells": [
  {
   "cell_type": "code",
   "execution_count": null,
   "metadata": {},
   "outputs": [],
   "source": [
    "#問題5.5.6\n",
    "#ゼロベクトルを含む線形独立なベクトルの集合はないことを示せ。\n",
    "\n",
    "#ゼロベクトルを含む集合S={s1,s2,s3,・・・,sn,0}には、非自明な線形結合\n",
    "#0=0s1+0s2+0s3+・・・+0sn+k0　(k≠0)が存在するため定義からSは線形独立ではない。\n",
    "\n"
   ]
  },
  {
   "cell_type": "code",
   "execution_count": 3,
   "metadata": {},
   "outputs": [
    {
     "name": "stdout",
     "output_type": "stream",
     "text": [
      "\n",
      "    y1    y2 y3\n",
      "---------------\n",
      " 0.667 0.333  1\n"
     ]
    }
   ],
   "source": [
    "#課題5.12.1\n",
    "# Make procedure move2borad(y)\n",
    "# Input Vec({'y1','y2','y3'},{'y1':0.1,'y2':0.2,'y3':0.3}) カメラ画面上の点qをホワイトボード基底の座標y1,y2,y3で記述したベクトル\n",
    "# Output Vec({'y1','y2','y3'},{'y1':__,'y2':__,'y3':1}) qが相当するホワイトボード上の点pをホワイトボード基底の座標y1,y2,y3で記述したベクトル\n",
    "\n",
    "from vec import Vec\n",
    "\n",
    "def move2board(y):\n",
    "    assert y.f['y3'] != 0\n",
    "    y3 = y.f['y3']\n",
    "    return Vec(y.D, {'y1': y.f['y1']/y3, 'y2': y.f['y2']/y3, 'y3': 1})\n",
    "\n",
    "y = Vec({'y1','y2','y3'},{'y1':0.2,'y2':0.1,'y3':0.3})\n",
    "\n",
    "print(move2board(y))"
   ]
  },
  {
   "cell_type": "code",
   "execution_count": 8,
   "metadata": {},
   "outputs": [
    {
     "name": "stdout",
     "output_type": "stream",
     "text": [
      "[Vec({('y3', 'x3'), ('y1', 'x2'), ('y1', 'x1'), ('y1', 'x3'), ('y3', 'x2'), ('y3', 'x1')},{('y3', 'x2'): 2, ('y3', 'x1'): 1, ('y3', 'x3'): 1, ('y1', 'x2'): 6, ('y1', 'x1'): 3, ('y1', 'x3'): 3}), Vec({('y3', 'x3'), ('y2', 'x2'), ('y2', 'x1'), ('y3', 'x2'), ('y3', 'x1'), ('y2', 'x3')},{('y2', 'x2'): 8, ('y2', 'x1'): 4, ('y2', 'x3'): 4, ('y3', 'x2'): 2, ('y3', 'x1'): 1, ('y3', 'x3'): 1})]\n"
     ]
    }
   ],
   "source": [
    "#課題5.12.2\n",
    "# R={'y1','y2','y3'}　ホワイトボード座標の定義域\n",
    "# C={'x1','x2,'x3'}　カメラ座標の定義域\n",
    "\n",
    "from vec import Vec\n",
    "\n",
    "def make_equations(x1,x2,w1,w2):\n",
    "    uR = {'y1','y3'}\n",
    "    vR = {'y2','y3'}\n",
    "    C = {'x1','x2','x3'}\n",
    "    Rdic = {'y1':w1, 'y2':w2, 'y3':1}\n",
    "    Cdic = {'x1':x1 , 'x2':x2 ,'x3':1}\n",
    "    U = Vec({(i,j) for i in uR for j in C}, {(i, j):Rdic[i]*Cdic[j] for i in uR for j in C} )\n",
    "    V = Vec({(i,j) for i in vR for j in C}, {(i, j):Rdic[i]*Cdic[j] for i in vR for j in C} )\n",
    "    return [U,V]\n",
    "\n",
    "print(make_equations(1,2,3,4))\n"
   ]
  }
 ],
 "metadata": {
  "kernelspec": {
   "display_name": "base",
   "language": "python",
   "name": "python3"
  },
  "language_info": {
   "codemirror_mode": {
    "name": "ipython",
    "version": 3
   },
   "file_extension": ".py",
   "mimetype": "text/x-python",
   "name": "python",
   "nbconvert_exporter": "python",
   "pygments_lexer": "ipython3",
   "version": "3.9.7"
  },
  "orig_nbformat": 4,
  "vscode": {
   "interpreter": {
    "hash": "ad2bdc8ecc057115af97d19610ffacc2b4e99fae6737bb82f5d7fb13d2f2c186"
   }
  }
 },
 "nbformat": 4,
 "nbformat_minor": 2
}
